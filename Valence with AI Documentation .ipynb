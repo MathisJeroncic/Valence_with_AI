{
 "cells": [
  {
   "cell_type": "markdown",
   "id": "53eece97",
   "metadata": {},
   "source": [
    "# Valence with AI Documentation "
   ]
  },
  {
   "cell_type": "markdown",
   "id": "9e9daabb",
   "metadata": {},
   "source": [
    "## Introduction\n",
    "\n",
    "The **aim** of this project is to determine how well an AI<sup>1</sup> is able to **recreate code** which was written by human professionals.\n",
    "\n",
    "This study is realised by a group of students: *Mathis Jeroncic*, *Thomas Velard*, and *Luka Bolješić*. The *Institute Jozef Stefan* asked us to determine **how useful is AI** for **programmers**. Our task consists in finding the right prompts<sup>2</sup>, and generate with it codes using AI. \n",
    "\n",
    "The codes we will try to reproduce come from the *Valence project* (https://github.com/VALENCEML/eBOOK), an **educational notebook**<sup>3</sup> created to **teach** how *machine learning* and others *AI algorithms* work. \n",
    "<br>Codes we will try to reproduce are in **python**<sup>4</sup>. It is the most popular programming language for AI thanks to its **libraries**.\n",
    "\n",
    "**Results** about our experiment are *available* on: https://github.com/MathisJeroncic/Valence_with_AI/tree/main \n",
    "\n"
   ]
  },
  {
   "cell_type": "markdown",
   "id": "73eced5b",
   "metadata": {},
   "source": [
    "## Code generation\n",
    "\n",
    "We first **chose codes** from the *Valence project* to generate. For that, we selected different codes from the project, that required **different types of methods**, in order to see how could react AI in front of **different type of problems**.\n",
    "\n",
    "In order to have coherent output, we agreed to all use the **same first prompts**. <br>After one try of generating code, the next prompt will depend of the first answer, so it becomes impossible to use the same prompt. <br>However, we agreed on not giving too much details in the prompts. Indeed, the aim is to know if even a non programmer could use AI to generate codes, so we chose **not to give too much details** that somenone who don't have knowledge in computer science couldn't give.<br>\n",
    "For exemple, the first prompt only describe what we want. If it doesn't work, we can precise some libraries that could be useful. If there is an error, then we can describe the error we want to fix, etc...\n",
    "\n",
    "We chose not to ask more than **5 times for each prompt**, because in general, if it doesn't work after 5 try, it won't work at all, so this limit allows us to have the same amount of try for each code that didn't work, which is useful for the results interpretation.\n",
    "\n",
    "AI evolve very quickly, and it is impossible to tell than one AI is obviously the best AI. That's why we chose to do this experiment **using 3 of the most known AI**. It is also useful to compare the power of these differents AI. *Luka Bolješić* used *Chat GPT*<sup>5</sup>. *Thomas Velard* worked with *Bard*. *Mathis Jeroncic* used *Auto-GPT*."
   ]
  },
  {
   "cell_type": "markdown",
   "id": "af61699c",
   "metadata": {},
   "source": [
    "## code interpretation\n",
    "\n",
    "After generating codes, the next step was to **grade** them. We established this **scale** :\n",
    "\n",
    "- 5: The code works perfectly and answer our expectations\n",
    "- 4: A detail is missing, the output is almost perfect\n",
    "- 3: The output is coherent, but it is not exactly what we are waiting for, or there is a warning which doesn't stop the program\n",
    "- 2: There is an output, even if it is not at all what was expected\n",
    "- 1: There isn't any output, an error stop the code\n",
    "\n",
    "Then, we.....\n",
    "\n"
   ]
  },
  {
   "cell_type": "markdown",
   "id": "34c3e0a9",
   "metadata": {},
   "source": [
    "## Lexique\n",
    "\n",
    "<sup>1</sup>*AI*: Artificial Intelligence. It represents all tools used my machine to reproduce human's behave as reasoning, plannification, or creativity.<br>\n",
    "<sup>2</sup>*Prompt*: A prompt is a text that we give to an AI to lead it in its creation.<br>\n",
    "<sup>3</sup>*Notebook*: A notebook is a type of file that countains both text and code. It is possible to run it and to see the results of codes. It is very useful to share code. <br>\n",
    "<sup>4</sup>*Python*: Python is a high-level, general-purpose programming language. <br>\n",
    "<sup>5</sup>*GPT*: Generative Pre-trained Transformer. It is a model of natural language manipulation.<br>"
   ]
  }
 ],
 "metadata": {
  "kernelspec": {
   "display_name": "Python 3 (ipykernel)",
   "language": "python",
   "name": "python3"
  },
  "language_info": {
   "codemirror_mode": {
    "name": "ipython",
    "version": 3
   },
   "file_extension": ".py",
   "mimetype": "text/x-python",
   "name": "python",
   "nbconvert_exporter": "python",
   "pygments_lexer": "ipython3",
   "version": "3.10.9"
  }
 },
 "nbformat": 4,
 "nbformat_minor": 5
}
